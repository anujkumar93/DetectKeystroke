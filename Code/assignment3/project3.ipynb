{
 "cells": [
  {
   "cell_type": "code",
   "execution_count": 1,
   "metadata": {
    "collapsed": false
   },
   "outputs": [],
   "source": [
    "import pickle\n",
    "import time, os, json\n",
    "import numpy as np\n",
    "import matplotlib.pyplot as plt\n",
    "\n",
    "from asgn3.gradient_check import eval_numerical_gradient, eval_numerical_gradient_array\n",
    "from asgn3.rnn_layers import *\n",
    "from asgn3.captioning_solver import CaptioningSolver\n",
    "from asgn3.classifiers.rnn import CaptioningRNN\n",
    "from asgn3.coco_utils import load_coco_data, sample_coco_minibatch, decode_captions\n",
    "from asgn3.image_utils import image_from_url\n",
    "%matplotlib inline\n",
    "# for auto-reloading external modules\n",
    "# see http://stackoverflow.com/questions/1907993/autoreload-of-modules-in-ipython\n",
    "%load_ext autoreload\n",
    "%autoreload 2\n",
    "\n",
    "def rel_error(x, y):\n",
    "  \"\"\" returns relative error \"\"\"\n",
    "  return np.max(np.abs(x - y) / (np.maximum(1e-8, np.abs(x) + np.abs(y))))"
   ]
  },
  {
   "cell_type": "code",
   "execution_count": 2,
   "metadata": {
    "collapsed": false
   },
   "outputs": [
    {
     "name": "stdout",
     "output_type": "stream",
     "text": [
      "X_val <type 'numpy.ndarray'> (234, 204, 3) float64\n",
      "X_train <type 'numpy.ndarray'> (936, 204, 3) float64\n",
      "X_test <type 'numpy.ndarray'> (292, 204, 3) float64\n",
      "test_features <type 'numpy.ndarray'> (292, 204, 3) float64\n",
      "idx_to_word <type 'dict'> 32\n",
      "train_captions <type 'numpy.ndarray'> (936, 17) int64\n",
      "val_captions <type 'numpy.ndarray'> (234, 17) int64\n",
      "test_captions <type 'numpy.ndarray'> (292, 17) int64\n",
      "val_features <type 'numpy.ndarray'> (234, 204, 3) float64\n",
      "y_val <type 'numpy.ndarray'> (234, 17) int64\n",
      "y_train <type 'numpy.ndarray'> (936, 17) int64\n",
      "train_features <type 'numpy.ndarray'> (936, 204, 3) float64\n",
      "y_test <type 'numpy.ndarray'> (292, 17) int64\n",
      "word_to_idx <type 'dict'> 32\n"
     ]
    }
   ],
   "source": [
    "data=pickle.load(open(\"../0.8s_rnn_rand.p\",\"rb\"))\n",
    "for k, v in data.iteritems():\n",
    "  if type(v) == np.ndarray:\n",
    "    print k, type(v), v.shape, v.dtype\n",
    "  else:\n",
    "    print k, type(v), len(v)"
   ]
  },
  {
   "cell_type": "code",
   "execution_count": 40,
   "metadata": {
    "collapsed": false
   },
   "outputs": [
    {
     "name": "stdout",
     "output_type": "stream",
     "text": [
      "number of nan values: 0\n",
      "number of inf values: 0\n"
     ]
    }
   ],
   "source": [
    "X_train,y_train=data['train_features'],data['train_captions']\n",
    "# X_val,y_val=data['X_val'],data['y_val']\n",
    "# num_classes=len(data['char_to_indx'])\n",
    "# def reformat(dataset):\n",
    "#   dataset = dataset.reshape((dataset.shape[0], -1)).astype(np.float32)\n",
    "#   return dataset\n",
    "# X_train=reformat(X_train)\n",
    "# X_val=reformat(X_val)\n",
    "print \"number of nan values:\",np.count_nonzero(np.isnan(X_train))\n",
    "print \"number of inf values:\",np.count_nonzero(np.isinf(X_train))"
   ]
  },
  {
   "cell_type": "code",
   "execution_count": 41,
   "metadata": {
    "collapsed": false
   },
   "outputs": [
    {
     "name": "stdout",
     "output_type": "stream",
     "text": [
      "1.0\n"
     ]
    }
   ],
   "source": [
    "train_features=data['train_features']\n",
    "diff=rel_error(train_features[0],train_features[1])\n",
    "print diff"
   ]
  },
  {
   "cell_type": "code",
   "execution_count": 30,
   "metadata": {
    "collapsed": false
   },
   "outputs": [
    {
     "data": {
      "image/png": "[encoded data removed]",
      "text/plain": [
       "<matplotlib.figure.Figure at 0x7fb37d86b110>"
      ]
     },
     "metadata": {},
     "output_type": "display_data"
    }
   ],
   "source": [
    "#see a few feature vectors\n",
    "F = plt.gcf()\n",
    "F.set_size_inches(10, 25, forward=True)#Set forward to True to resize window along with plot in figure.\n",
    "plt.imshow(data['X_train'][2], interpolation='nearest')\n",
    "plt.colorbar()\n",
    "plt.savefig('../feature2.jpg')\n",
    "plt.show()"
   ]
  },
  {
   "cell_type": "code",
   "execution_count": 3,
   "metadata": {
    "collapsed": false
   },
   "outputs": [
    {
     "name": "stdout",
     "output_type": "stream",
     "text": [
      "X_val <type 'numpy.ndarray'> (234, 204, 3) float64\n",
      "X_train <type 'numpy.ndarray'> (936, 204, 3) float64\n",
      "X_test <type 'numpy.ndarray'> (292, 204, 3) float64\n",
      "test_features <type 'numpy.ndarray'> (292, 612) float32\n",
      "idx_to_word <type 'dict'> 32\n",
      "train_captions <type 'numpy.ndarray'> (936, 17) int64\n",
      "val_captions <type 'numpy.ndarray'> (234, 17) int64\n",
      "test_captions <type 'numpy.ndarray'> (292, 17) int64\n",
      "val_features <type 'numpy.ndarray'> (234, 612) float32\n",
      "y_val <type 'numpy.ndarray'> (234, 17) int64\n",
      "y_train <type 'numpy.ndarray'> (936, 17) int64\n",
      "train_features <type 'numpy.ndarray'> (936, 612) float32\n",
      "y_test <type 'numpy.ndarray'> (292, 17) int64\n",
      "word_to_idx <type 'dict'> 32\n"
     ]
    }
   ],
   "source": [
    "from sklearn.decomposition import PCA\n",
    "\n",
    "def reformat(dataset):\n",
    "  pca = PCA(n_components=300)\n",
    "  dataset = dataset.reshape((dataset.shape[0], -1)).astype(np.float32)\n",
    "#   dataset=pca.fit_transform(dataset)\n",
    "  return dataset\n",
    "data['train_features']=reformat(data['train_features'])\n",
    "data['val_features']=reformat(data['val_features'])\n",
    "data['test_features']=reformat(data['test_features'])\n",
    "for k, v in data.iteritems():\n",
    "  if type(v) == np.ndarray:\n",
    "    print k, type(v), v.shape, v.dtype\n",
    "  else:\n",
    "    print k, type(v), len(v)"
   ]
  },
  {
   "cell_type": "code",
   "execution_count": 32,
   "metadata": {
    "collapsed": false
   },
   "outputs": [
    {
     "name": "stdout",
     "output_type": "stream",
     "text": [
      "TRYING....DROPOUT: 0.1\n",
      "REG: 1e-06\n",
      "INPUT_DIM 256\n",
      "LR 8e-06\n",
      "\n",
      "(Iteration 1 / 120) loss: 21.488776\n"
     ]
    },
    {
     "ename": "KeyboardInterrupt",
     "evalue": "",
     "output_type": "error",
     "traceback": [
      "\u001b[1;31m---------------------------------------------------------------------------\u001b[0m",
      "\u001b[1;31mKeyboardInterrupt\u001b[0m                         Traceback (most recent call last)",
      "\u001b[1;32m<ipython-input-32-0cc9601a9d86>\u001b[0m in \u001b[0;36m<module>\u001b[1;34m()\u001b[0m\n\u001b[0;32m     58\u001b[0m                          )\n\u001b[0;32m     59\u001b[0m \u001b[1;33m\u001b[0m\u001b[0m\n\u001b[1;32m---> 60\u001b[1;33m                 \u001b[0msmall_lstm_solver\u001b[0m\u001b[1;33m.\u001b[0m\u001b[0mtrain\u001b[0m\u001b[1;33m(\u001b[0m\u001b[1;33m)\u001b[0m\u001b[1;33m\u001b[0m\u001b[0m\n\u001b[0m\u001b[0;32m     61\u001b[0m \u001b[1;33m\u001b[0m\u001b[0m\n\u001b[0;32m     62\u001b[0m                 \u001b[0mcurr_loss\u001b[0m\u001b[1;33m=\u001b[0m\u001b[0msmall_lstm_solver\u001b[0m\u001b[1;33m.\u001b[0m\u001b[0mloss_history\u001b[0m\u001b[1;33m[\u001b[0m\u001b[1;33m-\u001b[0m\u001b[1;36m1\u001b[0m\u001b[1;33m]\u001b[0m\u001b[1;33m\u001b[0m\u001b[0m\n",
      "\u001b[1;32m/home/anuj/Documents/CMPSCI 682 - Neural Networks/Project/Code/assignment3/asgn3/captioning_solver.pyc\u001b[0m in \u001b[0;36mtrain\u001b[1;34m(self)\u001b[0m\n\u001b[0;32m    210\u001b[0m \u001b[1;33m\u001b[0m\u001b[0m\n\u001b[0;32m    211\u001b[0m     \u001b[1;32mfor\u001b[0m \u001b[0mt\u001b[0m \u001b[1;32min\u001b[0m \u001b[0mxrange\u001b[0m\u001b[1;33m(\u001b[0m\u001b[0mnum_iterations\u001b[0m\u001b[1;33m)\u001b[0m\u001b[1;33m:\u001b[0m\u001b[1;33m\u001b[0m\u001b[0m\n\u001b[1;32m--> 212\u001b[1;33m       \u001b[0mself\u001b[0m\u001b[1;33m.\u001b[0m\u001b[0m_step\u001b[0m\u001b[1;33m(\u001b[0m\u001b[1;33m)\u001b[0m\u001b[1;33m\u001b[0m\u001b[0m\n\u001b[0m\u001b[0;32m    213\u001b[0m \u001b[1;33m\u001b[0m\u001b[0m\n\u001b[0;32m    214\u001b[0m       \u001b[1;31m# Maybe print training loss\u001b[0m\u001b[1;33m\u001b[0m\u001b[1;33m\u001b[0m\u001b[0m\n",
      "\u001b[1;32m/home/anuj/Documents/CMPSCI 682 - Neural Networks/Project/Code/assignment3/asgn3/captioning_solver.pyc\u001b[0m in \u001b[0;36m_step\u001b[1;34m(self)\u001b[0m\n\u001b[0;32m    146\u001b[0m \u001b[1;33m\u001b[0m\u001b[0m\n\u001b[0;32m    147\u001b[0m     \u001b[1;31m# Compute loss and gradient\u001b[0m\u001b[1;33m\u001b[0m\u001b[1;33m\u001b[0m\u001b[0m\n\u001b[1;32m--> 148\u001b[1;33m     \u001b[0mloss\u001b[0m\u001b[1;33m,\u001b[0m \u001b[0mgrads\u001b[0m \u001b[1;33m=\u001b[0m \u001b[0mself\u001b[0m\u001b[1;33m.\u001b[0m\u001b[0mmodel\u001b[0m\u001b[1;33m.\u001b[0m\u001b[0mloss\u001b[0m\u001b[1;33m(\u001b[0m\u001b[0mfeatures\u001b[0m\u001b[1;33m,\u001b[0m \u001b[0mcaptions\u001b[0m\u001b[1;33m)\u001b[0m\u001b[1;33m\u001b[0m\u001b[0m\n\u001b[0m\u001b[0;32m    149\u001b[0m     \u001b[0mself\u001b[0m\u001b[1;33m.\u001b[0m\u001b[0mloss_history\u001b[0m\u001b[1;33m.\u001b[0m\u001b[0mappend\u001b[0m\u001b[1;33m(\u001b[0m\u001b[0mloss\u001b[0m\u001b[1;33m)\u001b[0m\u001b[1;33m\u001b[0m\u001b[0m\n\u001b[0;32m    150\u001b[0m \u001b[1;33m\u001b[0m\u001b[0m\n",
      "\u001b[1;32m/home/anuj/Documents/CMPSCI 682 - Neural Networks/Project/Code/assignment3/asgn3/classifiers/rnn.pyc\u001b[0m in \u001b[0;36mloss\u001b[1;34m(self, features, captions)\u001b[0m\n\u001b[0;32m    198\u001b[0m         \u001b[0mhidden_vectors\u001b[0m\u001b[1;33m,\u001b[0m \u001b[0mcache_hv\u001b[0m\u001b[1;33m=\u001b[0m\u001b[0mrnn_forward\u001b[0m\u001b[1;33m(\u001b[0m\u001b[0mword_embed\u001b[0m\u001b[1;33m,\u001b[0m \u001b[0minitial_h0\u001b[0m\u001b[1;33m,\u001b[0m \u001b[0mWx\u001b[0m\u001b[1;33m,\u001b[0m \u001b[0mWh\u001b[0m\u001b[1;33m,\u001b[0m \u001b[0mb\u001b[0m\u001b[1;33m)\u001b[0m\u001b[1;33m\u001b[0m\u001b[0m\n\u001b[0;32m    199\u001b[0m     \u001b[1;32melif\u001b[0m \u001b[0mself\u001b[0m\u001b[1;33m.\u001b[0m\u001b[0mcell_type\u001b[0m\u001b[1;33m==\u001b[0m\u001b[1;34m'lstm'\u001b[0m\u001b[1;33m:\u001b[0m\u001b[1;33m\u001b[0m\u001b[0m\n\u001b[1;32m--> 200\u001b[1;33m         \u001b[0mhidden_vectors\u001b[0m\u001b[1;33m,\u001b[0m \u001b[0mcache_hv\u001b[0m\u001b[1;33m=\u001b[0m\u001b[0mlstm_forward\u001b[0m\u001b[1;33m(\u001b[0m\u001b[0mword_embed\u001b[0m\u001b[1;33m,\u001b[0m \u001b[0minitial_h0\u001b[0m\u001b[1;33m,\u001b[0m \u001b[0mWx\u001b[0m\u001b[1;33m,\u001b[0m \u001b[0mWh\u001b[0m\u001b[1;33m,\u001b[0m \u001b[0mb\u001b[0m\u001b[1;33m)\u001b[0m\u001b[1;33m\u001b[0m\u001b[0m\n\u001b[0m\u001b[0;32m    201\u001b[0m     \u001b[1;32melse\u001b[0m\u001b[1;33m:\u001b[0m\u001b[1;33m\u001b[0m\u001b[0m\n\u001b[0;32m    202\u001b[0m         \u001b[1;32mraise\u001b[0m \u001b[0mValueError\u001b[0m\u001b[1;33m(\u001b[0m\u001b[1;34m\"Invalid cell_type\"\u001b[0m\u001b[1;33m)\u001b[0m\u001b[1;33m\u001b[0m\u001b[0m\n",
      "\u001b[1;32m/home/anuj/Documents/CMPSCI 682 - Neural Networks/Project/Code/assignment3/asgn3/rnn_layers.pyc\u001b[0m in \u001b[0;36mlstm_forward\u001b[1;34m(x, h0, Wx, Wh, b)\u001b[0m\n\u001b[0;32m    352\u001b[0m   \u001b[0mcurr_h\u001b[0m\u001b[1;33m=\u001b[0m\u001b[0mh0\u001b[0m\u001b[1;33m\u001b[0m\u001b[0m\n\u001b[0;32m    353\u001b[0m   \u001b[1;32mfor\u001b[0m \u001b[0mt\u001b[0m \u001b[1;32min\u001b[0m \u001b[0mrange\u001b[0m\u001b[1;33m(\u001b[0m\u001b[0mT\u001b[0m\u001b[1;33m)\u001b[0m\u001b[1;33m:\u001b[0m\u001b[1;33m\u001b[0m\u001b[0m\n\u001b[1;32m--> 354\u001b[1;33m     \u001b[0mcurr_h\u001b[0m\u001b[1;33m,\u001b[0m\u001b[0mcurr_c\u001b[0m\u001b[1;33m,\u001b[0m\u001b[0mcache\u001b[0m\u001b[1;33m[\u001b[0m\u001b[0mt\u001b[0m\u001b[1;33m]\u001b[0m\u001b[1;33m=\u001b[0m\u001b[0mlstm_step_forward\u001b[0m\u001b[1;33m(\u001b[0m\u001b[0mx\u001b[0m\u001b[1;33m[\u001b[0m\u001b[1;33m:\u001b[0m\u001b[1;33m,\u001b[0m\u001b[0mt\u001b[0m\u001b[1;33m,\u001b[0m\u001b[1;33m:\u001b[0m\u001b[1;33m]\u001b[0m\u001b[1;33m,\u001b[0m \u001b[0mcurr_h\u001b[0m\u001b[1;33m,\u001b[0m \u001b[0mcurr_c\u001b[0m\u001b[1;33m,\u001b[0m \u001b[0mWx\u001b[0m\u001b[1;33m,\u001b[0m \u001b[0mWh\u001b[0m\u001b[1;33m,\u001b[0m \u001b[0mb\u001b[0m\u001b[1;33m)\u001b[0m\u001b[1;33m\u001b[0m\u001b[0m\n\u001b[0m\u001b[0;32m    355\u001b[0m     \u001b[0mh\u001b[0m\u001b[1;33m[\u001b[0m\u001b[1;33m:\u001b[0m\u001b[1;33m,\u001b[0m\u001b[0mt\u001b[0m\u001b[1;33m,\u001b[0m\u001b[1;33m:\u001b[0m\u001b[1;33m]\u001b[0m\u001b[1;33m=\u001b[0m\u001b[0mcurr_h\u001b[0m\u001b[1;33m\u001b[0m\u001b[0m\n\u001b[0;32m    356\u001b[0m   \u001b[1;31m##############################################################################\u001b[0m\u001b[1;33m\u001b[0m\u001b[1;33m\u001b[0m\u001b[0m\n",
      "\u001b[1;32m/home/anuj/Documents/CMPSCI 682 - Neural Networks/Project/Code/assignment3/asgn3/rnn_layers.pyc\u001b[0m in \u001b[0;36mlstm_step_forward\u001b[1;34m(x, prev_h, prev_c, Wx, Wh, b)\u001b[0m\n\u001b[0;32m    256\u001b[0m   \u001b[1;31m#############################################################################\u001b[0m\u001b[1;33m\u001b[0m\u001b[1;33m\u001b[0m\u001b[0m\n\u001b[0;32m    257\u001b[0m   \u001b[0mN\u001b[0m\u001b[1;33m,\u001b[0m\u001b[0mH\u001b[0m\u001b[1;33m=\u001b[0m\u001b[0mprev_h\u001b[0m\u001b[1;33m.\u001b[0m\u001b[0mshape\u001b[0m\u001b[1;33m\u001b[0m\u001b[0m\n\u001b[1;32m--> 258\u001b[1;33m   \u001b[0mact_vec\u001b[0m\u001b[1;33m=\u001b[0m\u001b[0mx\u001b[0m\u001b[1;33m.\u001b[0m\u001b[0mdot\u001b[0m\u001b[1;33m(\u001b[0m\u001b[0mWx\u001b[0m\u001b[1;33m)\u001b[0m\u001b[1;33m+\u001b[0m\u001b[0mprev_h\u001b[0m\u001b[1;33m.\u001b[0m\u001b[0mdot\u001b[0m\u001b[1;33m(\u001b[0m\u001b[0mWh\u001b[0m\u001b[1;33m)\u001b[0m\u001b[1;33m+\u001b[0m\u001b[0mb\u001b[0m\u001b[1;33m\u001b[0m\u001b[0m\n\u001b[0m\u001b[0;32m    259\u001b[0m   \u001b[0ma_i\u001b[0m\u001b[1;33m,\u001b[0m \u001b[0ma_f\u001b[0m\u001b[1;33m,\u001b[0m \u001b[0ma_o\u001b[0m\u001b[1;33m,\u001b[0m \u001b[0ma_g\u001b[0m \u001b[1;33m=\u001b[0m \u001b[0mact_vec\u001b[0m\u001b[1;33m[\u001b[0m\u001b[1;33m:\u001b[0m\u001b[1;33m,\u001b[0m\u001b[1;36m0\u001b[0m\u001b[1;33m:\u001b[0m\u001b[0mH\u001b[0m\u001b[1;33m]\u001b[0m\u001b[1;33m,\u001b[0m \u001b[0mact_vec\u001b[0m\u001b[1;33m[\u001b[0m\u001b[1;33m:\u001b[0m\u001b[1;33m,\u001b[0m\u001b[0mH\u001b[0m\u001b[1;33m:\u001b[0m\u001b[1;36m2\u001b[0m\u001b[1;33m*\u001b[0m\u001b[0mH\u001b[0m\u001b[1;33m]\u001b[0m\u001b[1;33m,\u001b[0m \u001b[0mact_vec\u001b[0m\u001b[1;33m[\u001b[0m\u001b[1;33m:\u001b[0m\u001b[1;33m,\u001b[0m\u001b[1;36m2\u001b[0m\u001b[1;33m*\u001b[0m\u001b[0mH\u001b[0m\u001b[1;33m:\u001b[0m\u001b[1;36m3\u001b[0m\u001b[1;33m*\u001b[0m\u001b[0mH\u001b[0m\u001b[1;33m]\u001b[0m\u001b[1;33m,\u001b[0m \u001b[0mact_vec\u001b[0m\u001b[1;33m[\u001b[0m\u001b[1;33m:\u001b[0m\u001b[1;33m,\u001b[0m\u001b[1;36m3\u001b[0m\u001b[1;33m*\u001b[0m\u001b[0mH\u001b[0m\u001b[1;33m:\u001b[0m\u001b[1;33m]\u001b[0m\u001b[1;33m\u001b[0m\u001b[0m\n\u001b[0;32m    260\u001b[0m   \u001b[0mi\u001b[0m\u001b[1;33m,\u001b[0m\u001b[0mf\u001b[0m\u001b[1;33m,\u001b[0m\u001b[0mo\u001b[0m\u001b[1;33m,\u001b[0m\u001b[0mg\u001b[0m\u001b[1;33m=\u001b[0m\u001b[0msigmoid\u001b[0m\u001b[1;33m(\u001b[0m\u001b[0ma_i\u001b[0m\u001b[1;33m)\u001b[0m\u001b[1;33m,\u001b[0m\u001b[0msigmoid\u001b[0m\u001b[1;33m(\u001b[0m\u001b[0ma_f\u001b[0m\u001b[1;33m)\u001b[0m\u001b[1;33m,\u001b[0m\u001b[0msigmoid\u001b[0m\u001b[1;33m(\u001b[0m\u001b[0ma_o\u001b[0m\u001b[1;33m)\u001b[0m\u001b[1;33m,\u001b[0m\u001b[0mnp\u001b[0m\u001b[1;33m.\u001b[0m\u001b[0mtanh\u001b[0m\u001b[1;33m(\u001b[0m\u001b[0ma_g\u001b[0m\u001b[1;33m)\u001b[0m\u001b[1;33m\u001b[0m\u001b[0m\n",
      "\u001b[1;31mKeyboardInterrupt\u001b[0m: "
     ]
    }
   ],
   "source": [
    "fc_hidden_dims = [512,512,512,512,512,512,512]\n",
    "dropouts=[0.1,0.25,0.5]\n",
    "regs=[1e-6,1e-5]\n",
    "weight_scale = 1e-3\n",
    "learning_rates=[8e-6,3e-5,8e-5]\n",
    "lr_decay=0.99\n",
    "input_dims=[256,512] #the input dimension to RNN from FNN. can be any arbitrary number\n",
    "best_loss=float('inf')\n",
    "best_model=None\n",
    "best_lr=None\n",
    "\n",
    "num_train = 100\n",
    "for dropout in dropouts:\n",
    "    for reg in regs:\n",
    "        for learning_rate in learning_rates:\n",
    "            for input_dim in input_dims:\n",
    "                print \"TRYING....DROPOUT:\", dropout\n",
    "                print \"REG:\", reg\n",
    "                print \"INPUT_DIM\", input_dim\n",
    "                print \"LR\", learning_rate\n",
    "                print \"\"\n",
    "                mask=np.random.choice(data['train_features'].shape[0],num_train)\n",
    "                small_data = {\n",
    "                  'train_features': data['train_features'][mask],\n",
    "                  'train_captions': data['train_captions'][mask],\n",
    "                  'val_features': data['val_features'],\n",
    "                  'val_captions': data['val_captions'],\n",
    "                  'test_features': data['test_features'],\n",
    "                  'test_captions': data['test_captions'],\n",
    "                  'word_to_idx': data['word_to_idx'],\n",
    "                  'idx_to_word': data['idx_to_word'],\n",
    "                }\n",
    "\n",
    "                small_lstm_model = CaptioningRNN(\n",
    "                          cell_type='lstm',\n",
    "                          word_to_idx=data['word_to_idx'],\n",
    "                          fc_hidden_dims=fc_hidden_dims,\n",
    "                          fc_input_dim=data['train_features'].shape[1],\n",
    "                          input_dim=input_dim,\n",
    "                          hidden_dim=1024,\n",
    "                          wordvec_dim=256,\n",
    "                          dtype=np.float64,\n",
    "                          weight_scale=weight_scale, \n",
    "                          use_batchnorm=True, \n",
    "                          dropout=dropout,\n",
    "                          reg=reg\n",
    "                        )\n",
    "\n",
    "                small_lstm_solver = CaptioningSolver(small_lstm_model, small_data,\n",
    "                           update_rule='adam',\n",
    "                           num_epochs=30,\n",
    "                           batch_size=25,\n",
    "                           optim_config={\n",
    "                             'learning_rate': learning_rate,\n",
    "                           },\n",
    "                           lr_decay=lr_decay,\n",
    "                           verbose=True, print_every=50,\n",
    "                         )\n",
    "\n",
    "                small_lstm_solver.train()\n",
    "                \n",
    "                curr_loss=small_lstm_solver.loss_history[-1]\n",
    "                if best_loss>curr_loss:\n",
    "                    print \"BEST LOSS:\", curr_loss\n",
    "                    print \"DROPOUT:\", dropout\n",
    "                    print \"REG:\", reg\n",
    "                    print \"INPUT_DIM\", input_dim\n",
    "                    print \"LR\", learning_rate\n",
    "                    print \"\"\n",
    "                    best_loss=curr_loss\n",
    "                    best_model=CaptioningRNN(\n",
    "                          cell_type='lstm',\n",
    "                          word_to_idx=data['word_to_idx'],\n",
    "                          fc_hidden_dims=fc_hidden_dims,\n",
    "                          fc_input_dim=data['train_features'].shape[1],\n",
    "                          input_dim=input_dim,\n",
    "                          hidden_dim=1024,\n",
    "                          wordvec_dim=256,\n",
    "                          dtype=np.float64,\n",
    "                          weight_scale=weight_scale, \n",
    "                          use_batchnorm=True, \n",
    "                          dropout=dropout,\n",
    "                          reg=reg\n",
    "                        )\n",
    "                    best_lr=learning_rate"
   ]
  },
  {
   "cell_type": "code",
   "execution_count": 19,
   "metadata": {
    "collapsed": false
   },
   "outputs": [
    {
     "name": "stdout",
     "output_type": "stream",
     "text": [
      "(Iteration 1 / 400) loss: 16.912377\n",
      "(Iteration 51 / 400) loss: 13.488019\n",
      "(Iteration 101 / 400) loss: 16.196737\n",
      "(Iteration 151 / 400) loss: 15.384220\n",
      "(Iteration 201 / 400) loss: 13.066544\n",
      "(Iteration 251 / 400) loss: 13.511517\n",
      "(Iteration 301 / 400) loss: 13.125704\n",
      "(Iteration 351 / 400) loss: 15.950197\n"
     ]
    },
    {
     "data": {
      "image/png": "[encoded data removed]",
      "text/plain": [
       "<matplotlib.figure.Figure at 0x7fe878690f90>"
      ]
     },
     "metadata": {},
     "output_type": "display_data"
    }
   ],
   "source": [
    "fc_hidden_dims = [512,512,512,512,512,512,512]\n",
    "dropouts=[0.1,0.25,0.5]\n",
    "regs=[1e-6,1e-5]\n",
    "weight_scale = 1e-3\n",
    "learning_rates=[8e-6,3e-5,8e-5]\n",
    "lr_decay=0.99\n",
    "input_dims=[256,512] #the input dimension to RNN from FNN. can be any arbitrary number\n",
    "best_loss=float('inf')\n",
    "best_model=None\n",
    "best_lr=None\n",
    "\n",
    "num_train = 200\n",
    "mask=np.random.choice(data['train_features'].shape[0],num_train)\n",
    "small_data = {\n",
    "  'train_features': data['train_features'][mask],\n",
    "  'train_captions': data['train_captions'][mask],\n",
    "  'val_features': data['val_features'],\n",
    "  'val_captions': data['val_captions'],\n",
    "  'test_features': data['test_features'],\n",
    "  'test_captions': data['test_captions'],\n",
    "  'word_to_idx': data['word_to_idx'],\n",
    "  'idx_to_word': data['idx_to_word'],\n",
    "}\n",
    "\n",
    "best_model=CaptioningRNN(\n",
    "                          cell_type='lstm',\n",
    "                          word_to_idx=data['word_to_idx'],\n",
    "                          fc_hidden_dims=fc_hidden_dims,\n",
    "                          fc_input_dim=data['train_features'].shape[1],\n",
    "                          input_dim=512,\n",
    "                          hidden_dim=1024,\n",
    "                          wordvec_dim=256,\n",
    "                          dtype=np.float64,\n",
    "                          weight_scale=weight_scale, \n",
    "                          use_batchnorm=True, \n",
    "                          dropout=0.1,\n",
    "                          reg=1e-6\n",
    "                        )\n",
    "best_lr=4e-5                    \n",
    "                    \n",
    "small_lstm_solver = CaptioningSolver(best_model, small_data,\n",
    "                           update_rule='adam',\n",
    "                           num_epochs=50,\n",
    "                           batch_size=25,\n",
    "                           optim_config={\n",
    "                             'learning_rate': best_lr,\n",
    "                           },\n",
    "                           lr_decay=lr_decay,\n",
    "                           verbose=True, print_every=50,\n",
    "                         )\n",
    "\n",
    "small_lstm_solver.train()\n",
    "\n",
    "# Plot the training losses\n",
    "plt.plot(small_lstm_solver.loss_history)\n",
    "plt.xlabel('Iteration')\n",
    "plt.ylabel('Loss')\n",
    "plt.title('Training loss history')\n",
    "plt.show()"
   ]
  },
  {
   "cell_type": "code",
   "execution_count": 20,
   "metadata": {
    "collapsed": false
   },
   "outputs": [
    {
     "name": "stdout",
     "output_type": "stream",
     "text": [
      "train :\n",
      "Ground Truth: ['<START> t i m e <END>', '<START> <lshft> i d <END>']\n",
      "Sampled: ['t h e <END>', '<lshft> i <END>']\n",
      "\n",
      "val :\n",
      "Ground Truth: ['<START> <lshft> e d w a r d <END>', '<START> f r i e n d s <END>']\n",
      "Sampled: ['p o e e e <END>', 'o i e <END>']\n",
      "\n"
     ]
    }
   ],
   "source": [
    "for split in ['train', 'val']:\n",
    "  minibatch = sample_coco_minibatch(small_data, split=split, batch_size=2)\n",
    "  gt_captions, features = minibatch\n",
    "  gt_captions = decode_captions(gt_captions, data['idx_to_word'])\n",
    "\n",
    "  sample_captions = best_model.sample(features)\n",
    "  sample_captions = decode_captions(sample_captions, data['idx_to_word'])\n",
    "\n",
    "  print split,\":\"\n",
    "  print \"Ground Truth:\",gt_captions\n",
    "  print \"Sampled:\",sample_captions\n",
    "  print \"\""
   ]
  }
 ],
 "metadata": {
  "kernelspec": {
   "display_name": "Python [Root]",
   "language": "python",
   "name": "Python [Root]"
  },
  "language_info": {
   "codemirror_mode": {
    "name": "ipython",
    "version": 2
   },
   "file_extension": ".py",
   "mimetype": "text/x-python",
   "name": "python",
   "nbconvert_exporter": "python",
   "pygments_lexer": "ipython2",
   "version": "2.7.12"
  }
 },
 "nbformat": 4,
 "nbformat_minor": 0
}
