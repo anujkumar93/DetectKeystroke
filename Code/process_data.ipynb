{
 "cells": [
  {
   "cell_type": "code",
   "execution_count": 1,
   "metadata": {
    "collapsed": false
   },
   "outputs": [],
   "source": [
    "import csv\n",
    "import os\n",
    "\n",
    "%load_ext autoreload\n",
    "%autoreload 2\n",
    "\n",
    "os.path.join('../Data/keyfreq/library/',os.listdir('../Data/keyfreq/library/'))\n",
    "with open('../Data/righthand/library/export_20171114-163545.csv','rb') as f:\n",
    "    csv_r=csv.reader(f)\n",
    "    lines=list(csv_r)\n",
    "    print lines[0][3:]"
   ]
  },
  {
   "cell_type": "code",
   "execution_count": 8,
   "metadata": {
    "collapsed": false,
    "scrolled": true
   },
   "outputs": [
    {
     "name": "stdout",
     "output_type": "stream",
     "text": [
      "total number of files in  library : 8\n",
      "Successfully completed 1 files\n",
      "Successfully completed 2 files\n",
      "Successfully completed 3 files\n",
      "Successfully completed 4 files\n",
      "Successfully completed 5 files\n",
      "Successfully completed 6 files\n",
      "Successfully completed 7 files\n",
      "Successfully completed 8 files\n"
     ]
    }
   ],
   "source": [
    "import data_processing as dp\n",
    "import datetime as dt\n",
    "\n",
    "char_set={'q','w','e','r','t','y','u','i','o','p','a','s','d','f','g','h','j','k','l','z','x','c','v','b','n','m'}\n",
    "input_case=['library']\n",
    "log_buffer=dt.timedelta(seconds=1)\n",
    "\n",
    "l_d,lh_a,lh_gy,lh_gr,rh_a,rh_gy,rh_gr=dp.preprocess_data(char_set,input_case,log_buffer)"
   ]
  },
  {
   "cell_type": "code",
   "execution_count": 7,
   "metadata": {
    "collapsed": false
   },
   "outputs": [
    {
     "name": "stdout",
     "output_type": "stream",
     "text": [
      "log_data shape: (3,)\n",
      "lh_accel shape: (4,)\n",
      "lh_gyro shape: (6832, 4)\n",
      "lh_gravity shape: (6833, 4)\n",
      "rh_accel shape: (0,)\n",
      "rh_gyro shape: (0,)\n",
      "rh_gravity shape: (0,)\n"
     ]
    }
   ],
   "source": [
    "import numpy as np\n",
    "log_data=np.asarray(l_d[0])\n",
    "lh_accel=np.asarray(lh_a[0][0])\n",
    "lh_gyro=np.asarray(lh_gy[0])\n",
    "lh_gravity=np.asarray(lh_gr[0])\n",
    "rh_accel=np.asarray(rh_a[0])\n",
    "rh_gyro=np.asarray(rh_gy[0])\n",
    "rh_gravity=np.asarray(rh_gr[0])\n",
    "# print log_data\n",
    "print \"log_data shape:\",log_data.shape\n",
    "print \"lh_accel shape:\",lh_accel.shape\n",
    "print \"lh_gyro shape:\",lh_gyro.shape\n",
    "print \"lh_gravity shape:\",lh_gravity.shape\n",
    "print \"rh_accel shape:\",rh_accel.shape\n",
    "print \"rh_gyro shape:\",rh_gyro.shape\n",
    "print \"rh_gravity shape:\",rh_gravity.shape"
   ]
  }
 ],
 "metadata": {
  "kernelspec": {
   "display_name": "Python [Root]",
   "language": "python",
   "name": "Python [Root]"
  },
  "language_info": {
   "codemirror_mode": {
    "name": "ipython",
    "version": 2
   },
   "file_extension": ".py",
   "mimetype": "text/x-python",
   "name": "python",
   "nbconvert_exporter": "python",
   "pygments_lexer": "ipython2",
   "version": "2.7.12"
  }
 },
 "nbformat": 4,
 "nbformat_minor": 0
}
